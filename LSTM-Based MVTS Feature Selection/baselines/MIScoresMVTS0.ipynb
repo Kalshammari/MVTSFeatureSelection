{
  "cells": [
    {
      "cell_type": "code",
      "execution_count": null,
      "metadata": {
        "id": "nROkQT4rFjSO"
      },
      "outputs": [],
      "source": [
        "#Import The Solar Flare Data Set Files\n",
        "#change it according to your files location\n",
        "labelFile=\"Data\\\\labels_1540_4classes_icmla_21.pck\"\n",
        "inputsFile=\"Data\\\\mvts_1540_icmla_21.pck\""
      ]
    },
    {
      "cell_type": "code",
      "execution_count": null,
      "metadata": {
        "id": "P_v4--qEH4UG"
      },
      "outputs": [],
      "source": [
        "\n",
        "import pandas as pd\n",
        "import pickle\n",
        "\n",
        "import numpy as np\n",
        "from numpy import array\n",
        "\n",
        "\n",
        "\n",
        "from sklearn.model_selection import train_test_split\n",
        "from sklearn.preprocessing import MinMaxScaler\n",
        "from sklearn import preprocessing\n",
        "from sklearn.preprocessing import StandardScaler\n",
        "from sklearn.feature_selection import SelectKBest, SelectPercentile, mutual_info_classif\n",
        "\n",
        "import random\n",
        "import matplotlib.pyplot as plt\n",
        "\n",
        "\n",
        "\n",
        "import pandas as pd\n",
        "\n"
      ]
    },
    {
      "cell_type": "code",
      "execution_count": null,
      "metadata": {
        "id": "EsMdgSmtJe6c"
      },
      "outputs": [],
      "source": [
        "def loadInputs(file_name):\n",
        "        with open(file_name, 'rb') as fp:\n",
        "            obj = pickle.load(fp)\n",
        "        return obj"
      ]
    },
    {
      "cell_type": "code",
      "execution_count": null,
      "metadata": {
        "colab": {
          "base_uri": "https://localhost:8080/"
        },
        "id": "lS9sMb7AJ4r2",
        "outputId": "c7f9894b-c7bd-415f-eb20-0f01ccf89aa2"
      },
      "outputs": [
        {
          "output_type": "stream",
          "name": "stdout",
          "text": [
            "trainData.shape:  (1540, 33, 60)\n",
            "trainLebel.shape:  (1540,)\n",
            "Classes/labels :  [0 1 2 3]\n"
          ]
        }
      ],
      "source": [
        "#device = torch.device('cpu')\n",
        "#print(\"Processing in :\",device)\n",
        "\n",
        "Sampled_inputs=loadInputs(\"mvts_1540_icmla_21.pck\")\n",
        "Sampled_labels=loadInputs(\"labels_1540_4classes_icmla_21.pck\") \n",
        "trainData = Sampled_inputs\n",
        "trainLabel = Sampled_labels\n",
        "print(\"trainData.shape: \", trainData.shape)\n",
        "print(\"trainLebel.shape: \", trainLabel.shape)\n",
        "print(\"Classes/labels : \",np.unique(trainLabel))"
      ]
    },
    {
      "cell_type": "code",
      "execution_count": null,
      "metadata": {
        "colab": {
          "base_uri": "https://localhost:8080/"
        },
        "id": "Aj52QvgGKP9j",
        "outputId": "9251fa02-58bd-4a0f-ecb1-6b8bb33a6fcc"
      },
      "outputs": [
        {
          "output_type": "stream",
          "name": "stdout",
          "text": [
            "<class 'list'>\n",
            "<class 'numpy.ndarray'>\n",
            "trainData.shape:  (1540, 33, 60)\n",
            "<class 'numpy.ndarray'>\n",
            "trainLebel.shape:  (1540,)\n",
            "<class 'numpy.ndarray'>\n"
          ]
        }
      ],
      "source": [
        "#standardization/z normalization of the univaraite time series\n",
        "from sklearn.preprocessing import StandardScaler\n",
        "sc = StandardScaler()\n",
        "npArrays=[]\n",
        "for l in range(0, len(trainData)):\n",
        "  trainData_std = sc.fit_transform(trainData[l])\n",
        "  #trainData_std = trainData_std.astype(np.float64)\n",
        "  #print(type(trainData_std[0][0]))\n",
        "  npArrays.append(trainData_std)\n",
        "\n",
        "print(type(npArrays))\n",
        "arr = np.asarray(npArrays)\n",
        "print(type(arr))\n",
        "trainData=arr\n",
        "print(\"trainData.shape: \",trainData.shape)\n",
        "print(type(trainData))\n",
        "print(\"trainLebel.shape: \",trainLabel.shape)\n",
        "print(type(trainLabel))"
      ]
    },
    {
      "cell_type": "code",
      "execution_count": null,
      "metadata": {
        "colab": {
          "base_uri": "https://localhost:8080/"
        },
        "id": "aXiji4kOKm5Z",
        "outputId": "52d9fe4b-0152-43a5-fffb-bd40a58eb288"
      },
      "outputs": [
        {
          "output_type": "stream",
          "name": "stdout",
          "text": [
            "Transposing trainData shape:  (1540, 60, 33)\n"
          ]
        }
      ],
      "source": [
        "#Transposing trainData to shape:(1540, 60, 33)\n",
        "trainDatatemp=np.empty([1540,60, 33])\n",
        "n=len(trainData)\n",
        "for l in range(0, n):\n",
        "  temp=trainData[l]\n",
        "  temp=temp.T\n",
        "  trainDatatemp[l,:,:]=temp\n",
        "  \n",
        "\n",
        "trainData=trainDatatemp\n",
        "print(\"Transposing trainData shape: \",trainData.shape)"
      ]
    },
    {
      "cell_type": "code",
      "execution_count": null,
      "metadata": {
        "colab": {
          "base_uri": "https://localhost:8080/"
        },
        "id": "qN9MfXJJKrsZ",
        "outputId": "b6c01052-ce1a-4ca9-8cda-d78d7d3f4ec7"
      },
      "outputs": [
        {
          "output_type": "stream",
          "name": "stdout",
          "text": [
            "trainData shape:  (1540, 60, 25)\n"
          ]
        }
      ],
      "source": [
        "#Taking the first 25 parameters which are based parameters:(1540, 60, 25)\n",
        "trainDatat1=np.empty([1540,60, 25])\n",
        "n=len(trainData)\n",
        "for l in range(0, n):\n",
        "  temp=trainData[l,:,0:25]\n",
        "  trainDatat1[l,:,:]=temp\n",
        "  \n",
        "\n",
        "trainData=trainDatat1\n",
        "print(\"trainData shape: \",trainData.shape)"
      ]
    },
    {
      "cell_type": "code",
      "source": [
        "# Stratify the data\n",
        "r=0\n",
        "validation_size=0.2\n",
        "mvts_1540=trainData\n",
        "labels_1540=trainLabel\n",
        "X_train, X_test, y_train, y_test = train_test_split(mvts_1540, labels_1540, test_size=0.3, random_state=r, stratify=labels_1540)\n",
        "print(\"\\n\\n\\n *************** Validation Size is: \", validation_size,\"of training size\")\n",
        "print(\"after train validation split:\")\n",
        "X_train, X_val,y_train, y_val= train_test_split(X_train,y_train, test_size=validation_size,random_state=r,stratify=y_train)\n",
        "#check percentage of examples\n",
        "print(\"X_train shape: \", X_train.shape)\n",
        "print(\"y_train shape: \", y_train.shape)\n",
        "print(\"X_test shape: \", X_test.shape)\n",
        "print(\"y_test shape: \", y_test.shape)\n",
        "print(\"X_val shape: \",X_val.shape) \n",
        "print(\"y_val shape \",y_val.shape)\n",
        "unique_y_train, counts_y_train = np.unique(y_train, return_counts=True)\n",
        "y_train_stats = dict(zip(unique_y_train, counts_y_train))\n",
        "print(\"y_train_counts\")\n",
        "print(y_train_stats)\n",
        "#270/(269+269+270+270) = 0.25\n",
        "unique_y_val, counts_y_val = np.unique(y_val, return_counts=True)\n",
        "y_val_stats = dict(zip(unique_y_val, counts_y_val))\n",
        "print(\"y_validation_counts\")\n",
        "print(y_val_stats)\n",
        "unique_y_test, counts_y_test = np.unique(y_test, return_counts=True)\n",
        "y_test_stats = dict(zip(unique_y_test, counts_y_test))\n",
        "print(\"y_test_counts\")\n",
        "print(y_test_stats)#116/(116+116+115+115) = 0.25"
      ],
      "metadata": {
        "colab": {
          "base_uri": "https://localhost:8080/"
        },
        "id": "cAAOuWaP2OZa",
        "outputId": "82c8540d-fc95-40d8-bff6-90bab51d0c35"
      },
      "execution_count": null,
      "outputs": [
        {
          "output_type": "stream",
          "name": "stdout",
          "text": [
            "\n",
            "\n",
            "\n",
            " *************** Validation Size is:  0.2 of training size\n",
            "after train validation split:\n",
            "X_train shape:  (862, 60, 25)\n",
            "y_train shape:  (862,)\n",
            "X_test shape:  (462, 60, 25)\n",
            "y_test shape:  (462,)\n",
            "X_val shape:  (216, 60, 25)\n",
            "y_val shape  (216,)\n",
            "y_train_counts\n",
            "{0: 215, 1: 215, 2: 216, 3: 216}\n",
            "y_validation_counts\n",
            "{0: 54, 1: 54, 2: 54, 3: 54}\n",
            "y_test_counts\n",
            "{0: 116, 1: 116, 2: 115, 3: 115}\n"
          ]
        }
      ]
    },
    {
      "cell_type": "code",
      "source": [
        "#Dimensionality Reduction Step\n",
        "#Calculating the mean for each MVTS column (25 parameters which are based parameters)\n",
        "trainDatatmean=np.empty([862,25])\n",
        "n=len(X_train)\n",
        "for l in range(0, n):\n",
        "  temp=X_train[l,:,:]\n",
        "  #print(temp.shape)\n",
        "  #print(temp.shape[0])\n",
        "  #print(temp.shape[1])\n",
        "  x=temp.mean(axis=0)\n",
        "  #print(\"mean for mvts:\",l,\"is=\",x)\n",
        "  trainDatatmean[l]=x\n",
        "\n",
        "x_train=trainDatatmean\n",
        "print(\"trainDatatmean shape: \",trainDatatmean.shape)\n",
        "   \n"
      ],
      "metadata": {
        "colab": {
          "base_uri": "https://localhost:8080/"
        },
        "id": "SAyqKTLOr3_V",
        "outputId": "356c58fb-fd20-4c71-a6d6-62ec68ce30f0"
      },
      "execution_count": null,
      "outputs": [
        {
          "output_type": "stream",
          "name": "stdout",
          "text": [
            "trainDatatmean shape:  (862, 25)\n"
          ]
        }
      ]
    },
    {
      "cell_type": "code",
      "source": [
        "print(trainDatatmean[0])"
      ],
      "metadata": {
        "colab": {
          "base_uri": "https://localhost:8080/"
        },
        "id": "jMkKWgdezYPH",
        "outputId": "8712bacc-11f9-404b-f510-99f761a9cde5"
      },
      "execution_count": null,
      "outputs": [
        {
          "output_type": "stream",
          "name": "stdout",
          "text": [
            "[ 0.10970546  0.10970546  0.25683395  0.10970546  0.10970546  0.10970546\n",
            "  0.12323007 -5.1863761   0.10970546  0.10970546  0.10970546  0.10970546\n",
            "  0.10970546  0.10970546  0.10970546  0.10970546  0.10970546 -0.57621396\n",
            "  0.10970546  0.10970546  2.31077327  0.10970546  0.10970546  0.10970546\n",
            "  0.10970546]\n"
          ]
        }
      ]
    },
    {
      "cell_type": "code",
      "source": [
        "c=np.mean(X_train[0,:,7])\n",
        "print(c)"
      ],
      "metadata": {
        "colab": {
          "base_uri": "https://localhost:8080/"
        },
        "id": "EQTJVBbSywxF",
        "outputId": "b95fa0c5-1b19-40cb-cada-c6bb17589b12"
      },
      "execution_count": null,
      "outputs": [
        {
          "output_type": "stream",
          "name": "stdout",
          "text": [
            "-5.186376103170483\n"
          ]
        }
      ]
    },
    {
      "cell_type": "code",
      "source": [
        "# feature selection\n",
        "def select_features(X_train, y_train):\n",
        "\t# configure to select all features\n",
        "\tfs = SelectKBest(score_func=mutual_info_classif, k=25)\n",
        "\t# learn relationship from training data\n",
        "\tfs.fit(X_train, y_train)\n",
        "\t# transform train input data\n",
        "\tX_train_fs = fs.transform(X_train)\n",
        "\t# transform test input data\n",
        "\t#X_test_fs = fs.transform(X_test)\n",
        "\treturn X_train_fs, fs"
      ],
      "metadata": {
        "id": "PiDsLb2LIDGz"
      },
      "execution_count": null,
      "outputs": []
    },
    {
      "cell_type": "code",
      "source": [
        "# configure to select all features\n",
        "fs = SelectKBest(score_func=mutual_info_classif, k='all')\n",
        "# learn relationship from training data\n",
        "fs.fit(x_train, y_train)\n",
        "# transform train input data\n",
        "X_train_fs = fs.transform(x_train)\n"
      ],
      "metadata": {
        "id": "-hbPRUtFFwBE"
      },
      "execution_count": null,
      "outputs": []
    },
    {
      "cell_type": "code",
      "source": [
        "from matplotlib import pyplot\n",
        "# what are scores for the features\n",
        "for i in range(len(fs.scores_)):\n",
        "\tprint('Feature %d: %f' % (i, fs.scores_[i]))\n",
        "# plot the scores\n",
        "pyplot.bar([i for i in range(len(fs.scores_))], fs.scores_)\n",
        "pyplot.show()"
      ],
      "metadata": {
        "colab": {
          "base_uri": "https://localhost:8080/",
          "height": 699
        },
        "id": "aTYregRGIvq3",
        "outputId": "922e8d26-7c89-4318-a7f3-f555936eb289"
      },
      "execution_count": null,
      "outputs": [
        {
          "output_type": "stream",
          "name": "stdout",
          "text": [
            "Feature 0: 0.089860\n",
            "Feature 1: 0.089860\n",
            "Feature 2: 0.312594\n",
            "Feature 3: 0.089860\n",
            "Feature 4: 0.089860\n",
            "Feature 5: 0.089860\n",
            "Feature 6: 0.078214\n",
            "Feature 7: 0.158125\n",
            "Feature 8: 0.092756\n",
            "Feature 9: 0.089840\n",
            "Feature 10: 0.089938\n",
            "Feature 11: 0.089291\n",
            "Feature 12: 0.094629\n",
            "Feature 13: 0.092756\n",
            "Feature 14: 0.092756\n",
            "Feature 15: 0.092603\n",
            "Feature 16: 0.089860\n",
            "Feature 17: 0.118257\n",
            "Feature 18: 0.089938\n",
            "Feature 19: 0.089860\n",
            "Feature 20: 0.113435\n",
            "Feature 21: 0.089860\n",
            "Feature 22: 0.089860\n",
            "Feature 23: 0.089860\n",
            "Feature 24: 0.089860\n"
          ]
        },
        {
          "output_type": "display_data",
          "data": {
            "text/plain": [
              "<Figure size 432x288 with 1 Axes>"
            ],
            "image/png": "[encoded data removed]"
          },
          "metadata": {
            "needs_background": "light"
          }
        }
      ]
    },
    {
      "cell_type": "code",
      "source": [
        "import seaborn as sns\n",
        "X= np.array([0,1,2,3,4,5,6,7,8,9,10,11,12,13,14,15,16,17,18,19,20,21,22,23,24])\n",
        "plt.subplots(figsize=(12,5)) # set the size that you'd like (width, height)\n",
        "clrs = ['blue' ]\n",
        "sns.barplot(X, fs.scores_,label=X,x=\"Feature number\", y=\"Univariate score ($-Log(p_{value})$)\",palette=clrs)"
      ],
      "metadata": {
        "colab": {
          "base_uri": "https://localhost:8080/",
          "height": 392
        },
        "id": "eMc2Kb2k6I65",
        "outputId": "313640e7-74b5-4d19-d082-8b91147636f7"
      },
      "execution_count": null,
      "outputs": [
        {
          "output_type": "stream",
          "name": "stderr",
          "text": [
            "/usr/local/lib/python3.7/dist-packages/seaborn/_decorators.py:43: FutureWarning: Pass the following variables as keyword args: x, y. From version 0.12, the only valid positional argument will be `data`, and passing other arguments without an explicit keyword will result in an error or misinterpretation.\n",
            "  FutureWarning\n"
          ]
        },
        {
          "output_type": "execute_result",
          "data": {
            "text/plain": [
              "<matplotlib.axes._subplots.AxesSubplot at 0x7f35abe33790>"
            ]
          },
          "metadata": {},
          "execution_count": 76
        },
        {
          "output_type": "display_data",
          "data": {
            "text/plain": [
              "<Figure size 864x360 with 1 Axes>"
            ],
            "image/png": "[encoded data removed]"
          },
          "metadata": {
            "needs_background": "light"
          }
        }
      ]
    },
    {
      "cell_type": "code",
      "source": [
        "import matplotlib.pyplot as plt\n",
        "\n",
        "X_indices = np.arange(trainData.shape[-1])\n",
        "print(X_indices)\n",
        "plt.figure(1)\n",
        "plt.clf()\n",
        "plt.bar(X_indices - 0.05, fs.scores_, width=0.4)\n",
        "plt.title(\"Feature score\")\n",
        "plt.xlabel(\"Feature number\")\n",
        "plt.ylabel(r\"MI score)\")\n",
        "plt.show()"
      ],
      "metadata": {
        "colab": {
          "base_uri": "https://localhost:8080/",
          "height": 330
        },
        "id": "O6zTl-Sc5DRK",
        "outputId": "2c1ab7ff-814e-4675-a2fb-c0fb8394c4b5"
      },
      "execution_count": null,
      "outputs": [
        {
          "output_type": "stream",
          "name": "stdout",
          "text": [
            "[ 0  1  2  3  4  5  6  7  8  9 10 11 12 13 14 15 16 17 18 19 20 21 22 23\n",
            " 24]\n"
          ]
        },
        {
          "output_type": "display_data",
          "data": {
            "text/plain": [
              "<Figure size 432x288 with 1 Axes>"
            ],
            "image/png": "[encoded data removed]"
          },
          "metadata": {
            "needs_background": "light"
          }
        }
      ]
    },
    {
      "cell_type": "code",
      "source": [
        "from tabulate import tabulate\n",
        "df=pd.DataFrame({'Feature Number': X+1, 'MI Score': fs.scores_})\n",
        "print(tabulate(df,headers=\"keys\", tablefmt='fancy_grid'))"
      ],
      "metadata": {
        "colab": {
          "base_uri": "https://localhost:8080/"
        },
        "id": "zgYHQI617VuR",
        "outputId": "74a57f54-8331-49a3-8d85-4fb2b03939cc"
      },
      "execution_count": null,
      "outputs": [
        {
          "output_type": "stream",
          "name": "stdout",
          "text": [
            "╒════╤══════════════════╤════════════╕\n",
            "│    │   Feature Number │   MI Score │\n",
            "╞════╪══════════════════╪════════════╡\n",
            "│  0 │                1 │  0.0898596 │\n",
            "├────┼──────────────────┼────────────┤\n",
            "│  1 │                2 │  0.0898596 │\n",
            "├────┼──────────────────┼────────────┤\n",
            "│  2 │                3 │  0.312594  │\n",
            "├────┼──────────────────┼────────────┤\n",
            "│  3 │                4 │  0.0898596 │\n",
            "├────┼──────────────────┼────────────┤\n",
            "│  4 │                5 │  0.0898596 │\n",
            "├────┼──────────────────┼────────────┤\n",
            "│  5 │                6 │  0.0898596 │\n",
            "├────┼──────────────────┼────────────┤\n",
            "│  6 │                7 │  0.0782139 │\n",
            "├────┼──────────────────┼────────────┤\n",
            "│  7 │                8 │  0.158125  │\n",
            "├────┼──────────────────┼────────────┤\n",
            "│  8 │                9 │  0.0927559 │\n",
            "├────┼──────────────────┼────────────┤\n",
            "│  9 │               10 │  0.08984   │\n",
            "├────┼──────────────────┼────────────┤\n",
            "│ 10 │               11 │  0.0899377 │\n",
            "├────┼──────────────────┼────────────┤\n",
            "│ 11 │               12 │  0.0892911 │\n",
            "├────┼──────────────────┼────────────┤\n",
            "│ 12 │               13 │  0.094629  │\n",
            "├────┼──────────────────┼────────────┤\n",
            "│ 13 │               14 │  0.0927559 │\n",
            "├────┼──────────────────┼────────────┤\n",
            "│ 14 │               15 │  0.0927559 │\n",
            "├────┼──────────────────┼────────────┤\n",
            "│ 15 │               16 │  0.0926027 │\n",
            "├────┼──────────────────┼────────────┤\n",
            "│ 16 │               17 │  0.0898596 │\n",
            "├────┼──────────────────┼────────────┤\n",
            "│ 17 │               18 │  0.118257  │\n",
            "├────┼──────────────────┼────────────┤\n",
            "│ 18 │               19 │  0.0899377 │\n",
            "├────┼──────────────────┼────────────┤\n",
            "│ 19 │               20 │  0.0898596 │\n",
            "├────┼──────────────────┼────────────┤\n",
            "│ 20 │               21 │  0.113435  │\n",
            "├────┼──────────────────┼────────────┤\n",
            "│ 21 │               22 │  0.0898596 │\n",
            "├────┼──────────────────┼────────────┤\n",
            "│ 22 │               23 │  0.0898596 │\n",
            "├────┼──────────────────┼────────────┤\n",
            "│ 23 │               24 │  0.0898596 │\n",
            "├────┼──────────────────┼────────────┤\n",
            "│ 24 │               25 │  0.0898596 │\n",
            "╘════╧══════════════════╧════════════╛\n"
          ]
        }
      ]
    },
    {
      "cell_type": "code",
      "source": [
        "df.to_excel('MI_Scores.xlsx')"
      ],
      "metadata": {
        "id": "N9mVOR4P78tK"
      },
      "execution_count": null,
      "outputs": []
    }
  ],
  "metadata": {
    "colab": {
      "provenance": []
    },
    "gpuClass": "standard",
    "kernelspec": {
      "display_name": "Python 3",
      "name": "python3"
    },
    "language_info": {
      "name": "python"
    },
    "accelerator": "GPU"
  },
  "nbformat": 4,
  "nbformat_minor": 0
}