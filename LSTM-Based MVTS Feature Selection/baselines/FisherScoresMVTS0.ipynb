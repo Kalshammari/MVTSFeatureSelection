{
  "cells": [
    {
      "cell_type": "code",
      "execution_count": null,
      "metadata": {
        "id": "nROkQT4rFjSO",
        "colab": {
          "base_uri": "https://localhost:8080/"
        },
        "outputId": "b1cf4b34-6f97-48ff-93f2-72c4a3e5b16f"
      },
      "outputs": [
        {
          "output_type": "stream",
          "name": "stdout",
          "text": [
            "--2022-07-28 18:51:20--  https://www.dropbox.com/s/uy58al2rwf6yn9u/labels_1540_4classes_icmla_21.pck\n",
            "Resolving www.dropbox.com (www.dropbox.com)... 162.125.5.18, 2620:100:601d:18::a27d:512\n",
            "Connecting to www.dropbox.com (www.dropbox.com)|162.125.5.18|:443... connected.\n",
            "HTTP request sent, awaiting response... 301 Moved Permanently\n",
            "Location: /s/raw/uy58al2rwf6yn9u/labels_1540_4classes_icmla_21.pck [following]\n",
            "--2022-07-28 18:51:21--  https://www.dropbox.com/s/raw/uy58al2rwf6yn9u/labels_1540_4classes_icmla_21.pck\n",
            "Reusing existing connection to www.dropbox.com:443.\n",
            "HTTP request sent, awaiting response... 302 Found\n",
            "Location: https://uc10ab98f2d9f7c69457147d4f82.dl.dropboxusercontent.com/cd/0/inline/Bp-cVCq0-WOccwKz5_1GpuFDR1UKllxMq_gaJ1NdtPOFRYPygspsM6WgrYD7xS9zLYXqFNLz2Kdgf0RaLAB34D1sVy_4e9Czaq3fzb0C492tCWAdJg31G2GjYfQC9IbV1OF5_VqHYttLOWa7I_3sersu3GGautijt_uIObqt-4yMYw/file# [following]\n",
            "--2022-07-28 18:51:21--  https://uc10ab98f2d9f7c69457147d4f82.dl.dropboxusercontent.com/cd/0/inline/Bp-cVCq0-WOccwKz5_1GpuFDR1UKllxMq_gaJ1NdtPOFRYPygspsM6WgrYD7xS9zLYXqFNLz2Kdgf0RaLAB34D1sVy_4e9Czaq3fzb0C492tCWAdJg31G2GjYfQC9IbV1OF5_VqHYttLOWa7I_3sersu3GGautijt_uIObqt-4yMYw/file\n",
            "Resolving uc10ab98f2d9f7c69457147d4f82.dl.dropboxusercontent.com (uc10ab98f2d9f7c69457147d4f82.dl.dropboxusercontent.com)... 162.125.5.15, 2620:100:601d:15::a27d:50f\n",
            "Connecting to uc10ab98f2d9f7c69457147d4f82.dl.dropboxusercontent.com (uc10ab98f2d9f7c69457147d4f82.dl.dropboxusercontent.com)|162.125.5.15|:443... connected.\n",
            "HTTP request sent, awaiting response... 200 OK\n",
            "Length: 12479 (12K) [text/plain]\n",
            "Saving to: ‘labels_1540_4classes_icmla_21.pck.3’\n",
            "\n",
            "labels_1540_4classe 100%[===================>]  12.19K  --.-KB/s    in 0s      \n",
            "\n",
            "2022-07-28 18:51:21 (89.5 MB/s) - ‘labels_1540_4classes_icmla_21.pck.3’ saved [12479/12479]\n",
            "\n",
            "--2022-07-28 18:51:21--  https://www.dropbox.com/s/4bt5ugb9rimbrgx/mvts_1540_icmla_21.pck\n",
            "Resolving www.dropbox.com (www.dropbox.com)... 162.125.5.18, 2620:100:601f:18::a27d:912\n",
            "Connecting to www.dropbox.com (www.dropbox.com)|162.125.5.18|:443... connected.\n",
            "HTTP request sent, awaiting response... 301 Moved Permanently\n",
            "Location: /s/raw/4bt5ugb9rimbrgx/mvts_1540_icmla_21.pck [following]\n",
            "--2022-07-28 18:51:22--  https://www.dropbox.com/s/raw/4bt5ugb9rimbrgx/mvts_1540_icmla_21.pck\n",
            "Reusing existing connection to www.dropbox.com:443.\n",
            "HTTP request sent, awaiting response... 302 Found\n",
            "Location: https://uc87bbace72de6b767a50dd99d7f.dl.dropboxusercontent.com/cd/0/inline/Bp-SChpkQTt67KJUIijtDBPRwSQuFL4cz9ALylOomqlLcmFYTKgiQFz7gulRgB0AC-__4P4paNrE2lGoCnCOZzlr4u22rl7FKzndp6KFJqh4k86gu_jH4mH0FnhCMWuON-2sY6cjbbTxb_mlUR_lWv6D2bvzy5M3CXq-C_owPF3vvw/file# [following]\n",
            "--2022-07-28 18:51:22--  https://uc87bbace72de6b767a50dd99d7f.dl.dropboxusercontent.com/cd/0/inline/Bp-SChpkQTt67KJUIijtDBPRwSQuFL4cz9ALylOomqlLcmFYTKgiQFz7gulRgB0AC-__4P4paNrE2lGoCnCOZzlr4u22rl7FKzndp6KFJqh4k86gu_jH4mH0FnhCMWuON-2sY6cjbbTxb_mlUR_lWv6D2bvzy5M3CXq-C_owPF3vvw/file\n",
            "Resolving uc87bbace72de6b767a50dd99d7f.dl.dropboxusercontent.com (uc87bbace72de6b767a50dd99d7f.dl.dropboxusercontent.com)... 162.125.5.15, 2620:100:601d:15::a27d:50f\n",
            "Connecting to uc87bbace72de6b767a50dd99d7f.dl.dropboxusercontent.com (uc87bbace72de6b767a50dd99d7f.dl.dropboxusercontent.com)|162.125.5.15|:443... connected.\n",
            "HTTP request sent, awaiting response... 302 Found\n",
            "Location: /cd/0/inline2/Bp_HgvXyoA_R_kmjF_Qz9NKgTlTEO9z-zbfXKDRzfMofqHAJQYIxUskMYzGmYTSkpoXPfhNGQEc52XjKFlElKNPYlc2qeEUzkE2L9Zkn5cewqZXnVysC7dC3toxhaZzV20nt41vh-v5-v-GeKAq7GfN-xABe5N4jF5uFZGwrLBb_okqpuikDqz_UsP4xbK_H5DGSTP6_Mjv2MRsWTTPzxfy7MrW16FBsTH27yh0n82YUyDpIPobZ7SAjnLL3n03OmU55zSOmYqZ_NIknTxJOM2GYH7IOURg8PlX4_r0D7APGbNECuQ2hPScoMDASwKUpanDAzIOn30KB50Y6jnfRL2frxv07Q__TynRjjAhsotP4dmJ6D5mvBTBaJKVen5LtLBOsgJCyqkKntHs80osTg6HclcGG76aCcCRV3_OmHs7R7g/file [following]\n",
            "--2022-07-28 18:51:23--  https://uc87bbace72de6b767a50dd99d7f.dl.dropboxusercontent.com/cd/0/inline2/Bp_HgvXyoA_R_kmjF_Qz9NKgTlTEO9z-zbfXKDRzfMofqHAJQYIxUskMYzGmYTSkpoXPfhNGQEc52XjKFlElKNPYlc2qeEUzkE2L9Zkn5cewqZXnVysC7dC3toxhaZzV20nt41vh-v5-v-GeKAq7GfN-xABe5N4jF5uFZGwrLBb_okqpuikDqz_UsP4xbK_H5DGSTP6_Mjv2MRsWTTPzxfy7MrW16FBsTH27yh0n82YUyDpIPobZ7SAjnLL3n03OmU55zSOmYqZ_NIknTxJOM2GYH7IOURg8PlX4_r0D7APGbNECuQ2hPScoMDASwKUpanDAzIOn30KB50Y6jnfRL2frxv07Q__TynRjjAhsotP4dmJ6D5mvBTBaJKVen5LtLBOsgJCyqkKntHs80osTg6HclcGG76aCcCRV3_OmHs7R7g/file\n",
            "Reusing existing connection to uc87bbace72de6b767a50dd99d7f.dl.dropboxusercontent.com:443.\n",
            "HTTP request sent, awaiting response... 200 OK\n",
            "Length: 24393763 (23M) [application/octet-stream]\n",
            "Saving to: ‘mvts_1540_icmla_21.pck.3’\n",
            "\n",
            "mvts_1540_icmla_21. 100%[===================>]  23.26M  40.5MB/s    in 0.6s    \n",
            "\n",
            "2022-07-28 18:51:24 (40.5 MB/s) - ‘mvts_1540_icmla_21.pck.3’ saved [24393763/24393763]\n",
            "\n"
          ]
        }
      ],
      "source": [
        "#Import The Solar Flare Data Set Files\n",
        "#change it according to your files location\n",
        "labelFile=\"Data\\\\labels_1540_4classes_icmla_21.pck\"\n",
        "inputsFile=\"Data\\\\mvts_1540_icmla_21.pck\""
      ]
    },
    {
      "cell_type": "code",
      "execution_count": null,
      "metadata": {
        "id": "P_v4--qEH4UG"
      },
      "outputs": [],
      "source": [
        "\n",
        "import pandas as pd\n",
        "import pickle\n",
        "\n",
        "import numpy as np\n",
        "\n",
        "\n",
        "\n",
        "from sklearn.model_selection import train_test_split\n",
        "from sklearn.preprocessing import MinMaxScaler\n",
        "from sklearn import preprocessing\n",
        "from sklearn.preprocessing import StandardScaler\n",
        "\n",
        "\n",
        "import random\n",
        "import matplotlib.pyplot as plt\n"
      ]
    },
    {
      "cell_type": "code",
      "execution_count": null,
      "metadata": {
        "id": "EsMdgSmtJe6c"
      },
      "outputs": [],
      "source": [
        "def loadInputs(file_name):\n",
        "        with open(file_name, 'rb') as fp:\n",
        "            obj = pickle.load(fp)\n",
        "        return obj"
      ]
    },
    {
      "cell_type": "code",
      "execution_count": null,
      "metadata": {
        "colab": {
          "base_uri": "https://localhost:8080/"
        },
        "id": "lS9sMb7AJ4r2",
        "outputId": "622d28b7-9bf8-4f48-b9da-88a2f99da583"
      },
      "outputs": [
        {
          "output_type": "stream",
          "name": "stdout",
          "text": [
            "trainData.shape:  (1540, 33, 60)\n",
            "trainLebel.shape:  (1540,)\n",
            "Classes/labels :  [0 1 2 3]\n"
          ]
        }
      ],
      "source": [
        "#device = torch.device('cpu')\n",
        "#print(\"Processing in :\",device)\n",
        "\n",
        "Sampled_inputs=loadInputs(\"mvts_1540_icmla_21.pck\")\n",
        "Sampled_labels=loadInputs(\"labels_1540_4classes_icmla_21.pck\") \n",
        "trainData = Sampled_inputs\n",
        "trainLabel = Sampled_labels\n",
        "print(\"trainData.shape: \", trainData.shape)\n",
        "print(\"trainLebel.shape: \", trainLabel.shape)\n",
        "print(\"Classes/labels : \",np.unique(trainLabel))"
      ]
    },
    {
      "cell_type": "code",
      "execution_count": null,
      "metadata": {
        "colab": {
          "base_uri": "https://localhost:8080/"
        },
        "id": "Aj52QvgGKP9j",
        "outputId": "4598bb17-b4d3-4a13-f89a-d3b7d02b3e91"
      },
      "outputs": [
        {
          "output_type": "stream",
          "name": "stdout",
          "text": [
            "<class 'list'>\n",
            "<class 'numpy.ndarray'>\n",
            "trainData.shape:  (1540, 33, 60)\n",
            "<class 'numpy.ndarray'>\n",
            "trainLebel.shape:  (1540,)\n",
            "<class 'numpy.ndarray'>\n"
          ]
        }
      ],
      "source": [
        "#standardization/z normalization of the univaraite time series\n",
        "from sklearn.preprocessing import StandardScaler\n",
        "sc = StandardScaler()\n",
        "npArrays=[]\n",
        "for l in range(0, len(trainData)):\n",
        "  trainData_std = sc.fit_transform(trainData[l])\n",
        "  #trainData_std = trainData_std.astype(np.float64)\n",
        "  #print(type(trainData_std[0][0]))\n",
        "  npArrays.append(trainData_std)\n",
        "\n",
        "print(type(npArrays))\n",
        "arr = np.asarray(npArrays)\n",
        "print(type(arr))\n",
        "trainData=arr\n",
        "print(\"trainData.shape: \",trainData.shape)\n",
        "print(type(trainData))\n",
        "print(\"trainLebel.shape: \",trainLabel.shape)\n",
        "print(type(trainLabel))"
      ]
    },
    {
      "cell_type": "code",
      "execution_count": null,
      "metadata": {
        "colab": {
          "base_uri": "https://localhost:8080/"
        },
        "id": "aXiji4kOKm5Z",
        "outputId": "458d5787-154b-4748-91bc-16588b13841d"
      },
      "outputs": [
        {
          "output_type": "stream",
          "name": "stdout",
          "text": [
            "Transposing trainData shape:  (1540, 60, 33)\n"
          ]
        }
      ],
      "source": [
        "#Transposing trainData to shape:(1540, 60, 33)\n",
        "trainDatatemp=np.empty([1540,60, 33])\n",
        "n=len(trainData)\n",
        "for l in range(0, n):\n",
        "  temp=trainData[l]\n",
        "  temp=temp.T\n",
        "  trainDatatemp[l,:,:]=temp\n",
        "  \n",
        "\n",
        "trainData=trainDatatemp\n",
        "print(\"Transposing trainData shape: \",trainData.shape)"
      ]
    },
    {
      "cell_type": "code",
      "execution_count": null,
      "metadata": {
        "colab": {
          "base_uri": "https://localhost:8080/"
        },
        "id": "qN9MfXJJKrsZ",
        "outputId": "c4afb086-1b28-4bb3-a6f7-ce57dcb55ddc"
      },
      "outputs": [
        {
          "output_type": "stream",
          "name": "stdout",
          "text": [
            "trainData shape:  (1540, 60, 25)\n"
          ]
        }
      ],
      "source": [
        "#Taking the first 25 parameters which are based parameters:(1540, 60, 25)\n",
        "trainDatat1=np.empty([1540,60, 25])\n",
        "n=len(trainData)\n",
        "for l in range(0, n):\n",
        "  temp=trainData[l,:,0:25]\n",
        "  trainDatat1[l,:,:]=temp\n",
        "  \n",
        "\n",
        "trainData=trainDatat1\n",
        "print(\"trainData shape: \",trainData.shape)"
      ]
    },
    {
      "cell_type": "code",
      "source": [
        "# Stratify the data\n",
        "r=0\n",
        "validation_size=0.2\n",
        "mvts_1540=trainData\n",
        "labels_1540=trainLabel\n",
        "X_train, X_test, y_train, y_test = train_test_split(mvts_1540, labels_1540, test_size=0.3, random_state=r, stratify=labels_1540)\n",
        "print(\"\\n\\n\\n *************** Validation Size is: \", validation_size,\"of training size\")\n",
        "print(\"after train validation split:\")\n",
        "X_train, X_val,y_train, y_val= train_test_split(X_train,y_train, test_size=validation_size,random_state=r,stratify=y_train)\n",
        "#check percentage of examples\n",
        "print(\"X_train shape: \", X_train.shape)\n",
        "print(\"y_train shape: \", y_train.shape)\n",
        "print(\"X_test shape: \", X_test.shape)\n",
        "print(\"y_test shape: \", y_test.shape)\n",
        "print(\"X_val shape: \",X_val.shape) \n",
        "print(\"y_val shape \",y_val.shape)\n",
        "unique_y_train, counts_y_train = np.unique(y_train, return_counts=True)\n",
        "y_train_stats = dict(zip(unique_y_train, counts_y_train))\n",
        "print(\"y_train_counts\")\n",
        "print(y_train_stats)\n",
        "#270/(269+269+270+270) = 0.25\n",
        "unique_y_val, counts_y_val = np.unique(y_val, return_counts=True)\n",
        "y_val_stats = dict(zip(unique_y_val, counts_y_val))\n",
        "print(\"y_validation_counts\")\n",
        "print(y_val_stats)\n",
        "unique_y_test, counts_y_test = np.unique(y_test, return_counts=True)\n",
        "y_test_stats = dict(zip(unique_y_test, counts_y_test))\n",
        "print(\"y_test_counts\")\n",
        "print(y_test_stats)#116/(116+116+115+115) = 0.25"
      ],
      "metadata": {
        "colab": {
          "base_uri": "https://localhost:8080/"
        },
        "id": "cAAOuWaP2OZa",
        "outputId": "13edaae2-0b92-4281-d5b3-b81f67e0b899"
      },
      "execution_count": null,
      "outputs": [
        {
          "output_type": "stream",
          "name": "stdout",
          "text": [
            "\n",
            "\n",
            "\n",
            " *************** Validation Size is:  0.2 of training size\n",
            "after train validation split:\n",
            "X_train shape:  (862, 60, 25)\n",
            "y_train shape:  (862,)\n",
            "X_test shape:  (462, 60, 25)\n",
            "y_test shape:  (462,)\n",
            "X_val shape:  (216, 60, 25)\n",
            "y_val shape  (216,)\n",
            "y_train_counts\n",
            "{0: 215, 1: 215, 2: 216, 3: 216}\n",
            "y_validation_counts\n",
            "{0: 54, 1: 54, 2: 54, 3: 54}\n",
            "y_test_counts\n",
            "{0: 116, 1: 116, 2: 115, 3: 115}\n"
          ]
        }
      ]
    },
    {
      "cell_type": "code",
      "source": [
        "#Dimensionality Reduction Step\n",
        "#Calculating the mean for each MVTS column (25 parameters which are based parameters)\n",
        "trainDatatmean=np.empty([862,25])\n",
        "n=len(X_train)\n",
        "for l in range(0, n):\n",
        "  temp=X_train[l,:,:]\n",
        "  #print(temp.shape)\n",
        "  #print(temp.shape[0])\n",
        "  #print(temp.shape[1])\n",
        "  x=temp.mean(axis=0)\n",
        "  #print(\"mean for mvts:\",l,\"is=\",x)\n",
        "  trainDatatmean[l]=x\n",
        "\n",
        "x_train=trainDatatmean\n",
        "print(\"trainDatatmean shape: \",trainDatatmean.shape)\n",
        "   \n"
      ],
      "metadata": {
        "colab": {
          "base_uri": "https://localhost:8080/"
        },
        "id": "SAyqKTLOr3_V",
        "outputId": "263ace5f-4bce-4f38-bb4c-8858003ad458"
      },
      "execution_count": null,
      "outputs": [
        {
          "output_type": "stream",
          "name": "stdout",
          "text": [
            "trainDatatmean shape:  (862, 25)\n"
          ]
        }
      ]
    },
    {
      "cell_type": "code",
      "source": [
        "print(trainDatatmean[0])"
      ],
      "metadata": {
        "colab": {
          "base_uri": "https://localhost:8080/"
        },
        "id": "jMkKWgdezYPH",
        "outputId": "b1e82a8f-25f0-48a7-93cf-b3636591c2ab"
      },
      "execution_count": null,
      "outputs": [
        {
          "output_type": "stream",
          "name": "stdout",
          "text": [
            "[ 0.10970546  0.10970546  0.25683395  0.10970546  0.10970546  0.10970546\n",
            "  0.12323007 -5.1863761   0.10970546  0.10970546  0.10970546  0.10970546\n",
            "  0.10970546  0.10970546  0.10970546  0.10970546  0.10970546 -0.57621396\n",
            "  0.10970546  0.10970546  2.31077327  0.10970546  0.10970546  0.10970546\n",
            "  0.10970546]\n"
          ]
        }
      ]
    },
    {
      "cell_type": "code",
      "source": [
        "c=np.mean(X_train[0,:,7])\n",
        "print(c)"
      ],
      "metadata": {
        "colab": {
          "base_uri": "https://localhost:8080/"
        },
        "id": "EQTJVBbSywxF",
        "outputId": "6c360c13-4d91-482d-eca4-240ada788d84"
      },
      "execution_count": null,
      "outputs": [
        {
          "output_type": "stream",
          "name": "stdout",
          "text": [
            "-5.186376103170483\n"
          ]
        }
      ]
    },
    {
      "cell_type": "code",
      "source": [
        "# Fisher Score: Univariate feature selection\n",
        "from sklearn.feature_selection import SelectKBest, f_classif\n",
        "selector = SelectKBest(f_classif, k=25)\n",
        "selector.fit(x_train, y_train)\n",
        "scores = -np.log10(selector.pvalues_)\n",
        "scores /= scores.max()\n"
      ],
      "metadata": {
        "id": "aFbRNMPS1Ntt"
      },
      "execution_count": null,
      "outputs": []
    },
    {
      "cell_type": "code",
      "source": [
        "import matplotlib.pyplot as plt\n",
        "\n",
        "X_indices = np.arange(trainData.shape[-1])\n",
        "print(X_indices)\n",
        "plt.figure(1)\n",
        "plt.clf()\n",
        "plt.bar(X_indices - 0.05, scores, width=0.4)\n",
        "plt.title(\"Feature univariate score\")\n",
        "plt.xlabel(\"Feature number\")\n",
        "plt.ylabel(r\"Univariate score ($-Log(p_{value})$)\")\n",
        "plt.show()"
      ],
      "metadata": {
        "colab": {
          "base_uri": "https://localhost:8080/",
          "height": 330
        },
        "id": "O6zTl-Sc5DRK",
        "outputId": "f9b7b5af-ff9e-4f89-eb75-cab4a4f5d3d8"
      },
      "execution_count": null,
      "outputs": [
        {
          "output_type": "stream",
          "name": "stdout",
          "text": [
            "[ 0  1  2  3  4  5  6  7  8  9 10 11 12 13 14 15 16 17 18 19 20 21 22 23\n",
            " 24]\n"
          ]
        },
        {
          "output_type": "display_data",
          "data": {
            "text/plain": [
              "<Figure size 432x288 with 1 Axes>"
            ],
            "image/png": "[encoded data removed]"
          },
          "metadata": {
            "needs_background": "light"
          }
        }
      ]
    },
    {
      "cell_type": "code",
      "source": [
        "import seaborn as sns\n",
        "X= np.array([0,1,2,3,4,5,6,7,8,9,10,11,12,13,14,15,16,17,18,19,20,21,22,23,24])\n",
        "plt.subplots(figsize=(12,5)) # set the size that you'd like (width, height)\n",
        "clrs = ['blue' ]\n",
        "sns.barplot(X_indices, scores,label=X_indices,x=\"Feature number\", y=\"Univariate score ($-Log(p_{value})$)\",palette=clrs)"
      ],
      "metadata": {
        "colab": {
          "base_uri": "https://localhost:8080/",
          "height": 392
        },
        "id": "GHuxhAaG6F_-",
        "outputId": "ebf5f6a7-2db8-4cbc-9072-42358e969dc2"
      },
      "execution_count": null,
      "outputs": [
        {
          "output_type": "stream",
          "name": "stderr",
          "text": [
            "/usr/local/lib/python3.7/dist-packages/seaborn/_decorators.py:43: FutureWarning: Pass the following variables as keyword args: x, y. From version 0.12, the only valid positional argument will be `data`, and passing other arguments without an explicit keyword will result in an error or misinterpretation.\n",
            "  FutureWarning\n"
          ]
        },
        {
          "output_type": "execute_result",
          "data": {
            "text/plain": [
              "<matplotlib.axes._subplots.AxesSubplot at 0x7f6ba8ff7550>"
            ]
          },
          "metadata": {},
          "execution_count": 60
        },
        {
          "output_type": "display_data",
          "data": {
            "text/plain": [
              "<Figure size 864x360 with 1 Axes>"
            ],
            "image/png": "[encoded data removed]"
          },
          "metadata": {
            "needs_background": "light"
          }
        }
      ]
    },
    {
      "cell_type": "code",
      "source": [
        "for i in range(0,25):\n",
        " print(X_indices[i], scores[i])"
      ],
      "metadata": {
        "colab": {
          "base_uri": "https://localhost:8080/"
        },
        "id": "aVm7KWjT69T1",
        "outputId": "ba27152b-0511-4fe0-e83b-c68959e38dd4"
      },
      "execution_count": null,
      "outputs": [
        {
          "output_type": "stream",
          "name": "stdout",
          "text": [
            "0 0.0369394000277584\n",
            "1 0.036939400027751174\n",
            "2 1.0\n",
            "3 0.0369394000341733\n",
            "4 0.0369394000277584\n",
            "5 0.03693940002617266\n",
            "6 0.05426149795814052\n",
            "7 0.2430020579467021\n",
            "8 0.0345023715684881\n",
            "9 0.03687493619882286\n",
            "10 0.037309502584302615\n",
            "11 0.038564764545792184\n",
            "12 0.040012556922913965\n",
            "13 0.047810198097100284\n",
            "14 0.048339771144624726\n",
            "15 0.042128327338143826\n",
            "16 0.03694023187587944\n",
            "17 0.11010435052767\n",
            "18 0.03713320134448587\n",
            "19 0.03694552144456659\n",
            "20 0.05974805234686673\n",
            "21 0.03694491001742527\n",
            "22 0.03696475054897974\n",
            "23 0.0369394000277584\n",
            "24 0.0369394000277584\n"
          ]
        }
      ]
    },
    {
      "cell_type": "code",
      "source": [
        "from tabulate import tabulate\n",
        "df=pd.DataFrame({'Feature Number': X+1, 'Fisher Score': scores})\n",
        "print(tabulate(df,headers=\"keys\", tablefmt='fancy_grid'))"
      ],
      "metadata": {
        "colab": {
          "base_uri": "https://localhost:8080/"
        },
        "id": "zgYHQI617VuR",
        "outputId": "98771022-0f9b-4ab1-c55f-b46484fd9169"
      },
      "execution_count": null,
      "outputs": [
        {
          "output_type": "stream",
          "name": "stdout",
          "text": [
            "╒════╤══════════════════╤════════════════╕\n",
            "│    │   Feature Number │   Fisher Score │\n",
            "╞════╪══════════════════╪════════════════╡\n",
            "│  0 │                1 │      0.0369394 │\n",
            "├────┼──────────────────┼────────────────┤\n",
            "│  1 │                2 │      0.0369394 │\n",
            "├────┼──────────────────┼────────────────┤\n",
            "│  2 │                3 │      1         │\n",
            "├────┼──────────────────┼────────────────┤\n",
            "│  3 │                4 │      0.0369394 │\n",
            "├────┼──────────────────┼────────────────┤\n",
            "│  4 │                5 │      0.0369394 │\n",
            "├────┼──────────────────┼────────────────┤\n",
            "│  5 │                6 │      0.0369394 │\n",
            "├────┼──────────────────┼────────────────┤\n",
            "│  6 │                7 │      0.0542615 │\n",
            "├────┼──────────────────┼────────────────┤\n",
            "│  7 │                8 │      0.243002  │\n",
            "├────┼──────────────────┼────────────────┤\n",
            "│  8 │                9 │      0.0345024 │\n",
            "├────┼──────────────────┼────────────────┤\n",
            "│  9 │               10 │      0.0368749 │\n",
            "├────┼──────────────────┼────────────────┤\n",
            "│ 10 │               11 │      0.0373095 │\n",
            "├────┼──────────────────┼────────────────┤\n",
            "│ 11 │               12 │      0.0385648 │\n",
            "├────┼──────────────────┼────────────────┤\n",
            "│ 12 │               13 │      0.0400126 │\n",
            "├────┼──────────────────┼────────────────┤\n",
            "│ 13 │               14 │      0.0478102 │\n",
            "├────┼──────────────────┼────────────────┤\n",
            "│ 14 │               15 │      0.0483398 │\n",
            "├────┼──────────────────┼────────────────┤\n",
            "│ 15 │               16 │      0.0421283 │\n",
            "├────┼──────────────────┼────────────────┤\n",
            "│ 16 │               17 │      0.0369402 │\n",
            "├────┼──────────────────┼────────────────┤\n",
            "│ 17 │               18 │      0.110104  │\n",
            "├────┼──────────────────┼────────────────┤\n",
            "│ 18 │               19 │      0.0371332 │\n",
            "├────┼──────────────────┼────────────────┤\n",
            "│ 19 │               20 │      0.0369455 │\n",
            "├────┼──────────────────┼────────────────┤\n",
            "│ 20 │               21 │      0.0597481 │\n",
            "├────┼──────────────────┼────────────────┤\n",
            "│ 21 │               22 │      0.0369449 │\n",
            "├────┼──────────────────┼────────────────┤\n",
            "│ 22 │               23 │      0.0369648 │\n",
            "├────┼──────────────────┼────────────────┤\n",
            "│ 23 │               24 │      0.0369394 │\n",
            "├────┼──────────────────┼────────────────┤\n",
            "│ 24 │               25 │      0.0369394 │\n",
            "╘════╧══════════════════╧════════════════╛\n"
          ]
        }
      ]
    },
    {
      "cell_type": "code",
      "source": [
        "df.to_excel('Fisher_Scores.xlsx')"
      ],
      "metadata": {
        "id": "N9mVOR4P78tK"
      },
      "execution_count": null,
      "outputs": []
    }
  ],
  "metadata": {
    "colab": {
      "provenance": []
    },
    "gpuClass": "standard",
    "kernelspec": {
      "display_name": "Python 3",
      "name": "python3"
    },
    "language_info": {
      "name": "python"
    },
    "accelerator": "GPU"
  },
  "nbformat": 4,
  "nbformat_minor": 0
}