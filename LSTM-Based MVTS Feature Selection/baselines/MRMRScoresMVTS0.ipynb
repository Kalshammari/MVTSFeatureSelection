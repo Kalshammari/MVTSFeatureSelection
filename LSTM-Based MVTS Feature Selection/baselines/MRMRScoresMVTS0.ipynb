{
  "cells": [
    {
      "cell_type": "code",
      "execution_count": null,
      "metadata": {
        "id": "nROkQT4rFjSO"
      },
      "outputs": [],
      "source": [
        "#Import The Solar Flare Data Set Files\n",
        "#change it according to your files location\n",
        "labelFile=\"Data\\\\labels_1540_4classes_icmla_21.pck\"\n",
        "inputsFile=\"Data\\\\mvts_1540_icmla_21.pck\""
      ]
    },
    {
      "cell_type": "code",
      "execution_count": null,
      "metadata": {
        "id": "P_v4--qEH4UG"
      },
      "outputs": [],
      "source": [
        "import pickle\n",
        "\n",
        "import numpy as np\n",
        "\n",
        "\n",
        "\n",
        "from sklearn.model_selection import train_test_split\n",
        "from sklearn.preprocessing import MinMaxScaler\n",
        "from sklearn import preprocessing\n",
        "from sklearn.preprocessing import StandardScaler\n",
        "\n",
        "\n",
        "import random\n",
        "import matplotlib.pyplot as plt\n",
        "\n",
        "\n",
        "\n",
        "import pandas as pd\n",
        "\n",
        "\n",
        "\n",
        "from sklearn.feature_selection import SelectKBest, SelectPercentile, mutual_info_classif\n",
        "\n"
      ]
    },
    {
      "cell_type": "code",
      "execution_count": null,
      "metadata": {
        "id": "EsMdgSmtJe6c"
      },
      "outputs": [],
      "source": [
        "def loadInputs(file_name):\n",
        "        with open(file_name, 'rb') as fp:\n",
        "            obj = pickle.load(fp)\n",
        "        return obj"
      ]
    },
    {
      "cell_type": "code",
      "execution_count": null,
      "metadata": {
        "colab": {
          "base_uri": "https://localhost:8080/"
        },
        "id": "lS9sMb7AJ4r2",
        "outputId": "524f1ecd-550c-4b98-a5cc-5996e6687e53"
      },
      "outputs": [
        {
          "output_type": "stream",
          "name": "stdout",
          "text": [
            "trainData.shape:  (1540, 33, 60)\n",
            "trainLebel.shape:  (1540,)\n",
            "Classes/labels :  [0 1 2 3]\n"
          ]
        }
      ],
      "source": [
        "#device = torch.device('cpu')\n",
        "#print(\"Processing in :\",device)\n",
        "\n",
        "Sampled_inputs=loadInputs(\"mvts_1540_icmla_21.pck\")\n",
        "Sampled_labels=loadInputs(\"labels_1540_4classes_icmla_21.pck\") \n",
        "trainData = Sampled_inputs\n",
        "trainLabel = Sampled_labels\n",
        "print(\"trainData.shape: \", trainData.shape)\n",
        "print(\"trainLebel.shape: \", trainLabel.shape)\n",
        "print(\"Classes/labels : \",np.unique(trainLabel))"
      ]
    },
    {
      "cell_type": "code",
      "execution_count": null,
      "metadata": {
        "colab": {
          "base_uri": "https://localhost:8080/"
        },
        "id": "Aj52QvgGKP9j",
        "outputId": "fc7a5884-483c-4322-9240-7114aa4bc08b"
      },
      "outputs": [
        {
          "output_type": "stream",
          "name": "stdout",
          "text": [
            "<class 'list'>\n",
            "<class 'numpy.ndarray'>\n",
            "trainData.shape:  (1540, 33, 60)\n",
            "<class 'numpy.ndarray'>\n",
            "trainLebel.shape:  (1540,)\n",
            "<class 'numpy.ndarray'>\n"
          ]
        }
      ],
      "source": [
        "#standardization/z normalization of the univaraite time series\n",
        "from sklearn.preprocessing import StandardScaler\n",
        "sc = StandardScaler()\n",
        "npArrays=[]\n",
        "for l in range(0, len(trainData)):\n",
        "  trainData_std = sc.fit_transform(trainData[l])\n",
        "  #trainData_std = trainData_std.astype(np.float64)\n",
        "  #print(type(trainData_std[0][0]))\n",
        "  npArrays.append(trainData_std)\n",
        "\n",
        "print(type(npArrays))\n",
        "arr = np.asarray(npArrays)\n",
        "print(type(arr))\n",
        "trainData=arr\n",
        "print(\"trainData.shape: \",trainData.shape)\n",
        "print(type(trainData))\n",
        "print(\"trainLebel.shape: \",trainLabel.shape)\n",
        "print(type(trainLabel))"
      ]
    },
    {
      "cell_type": "code",
      "execution_count": null,
      "metadata": {
        "colab": {
          "base_uri": "https://localhost:8080/"
        },
        "id": "aXiji4kOKm5Z",
        "outputId": "babfad09-a2ce-4719-bf2c-32fb43b7b9b4"
      },
      "outputs": [
        {
          "output_type": "stream",
          "name": "stdout",
          "text": [
            "Transposing trainData shape:  (1540, 60, 33)\n"
          ]
        }
      ],
      "source": [
        "#Transposing trainData to shape:(1540, 60, 33)\n",
        "trainDatatemp=np.empty([1540,60, 33])\n",
        "n=len(trainData)\n",
        "for l in range(0, n):\n",
        "  temp=trainData[l]\n",
        "  temp=temp.T\n",
        "  trainDatatemp[l,:,:]=temp\n",
        "  \n",
        "\n",
        "trainData=trainDatatemp\n",
        "print(\"Transposing trainData shape: \",trainData.shape)"
      ]
    },
    {
      "cell_type": "code",
      "execution_count": null,
      "metadata": {
        "colab": {
          "base_uri": "https://localhost:8080/"
        },
        "id": "qN9MfXJJKrsZ",
        "outputId": "b5b115e7-91e1-4dfb-ee31-f80a5317dd3e"
      },
      "outputs": [
        {
          "output_type": "stream",
          "name": "stdout",
          "text": [
            "trainData shape:  (1540, 60, 25)\n"
          ]
        }
      ],
      "source": [
        "#Taking the first 25 parameters which are based parameters:(1540, 60, 25)\n",
        "trainDatat1=np.empty([1540,60, 25])\n",
        "n=len(trainData)\n",
        "for l in range(0, n):\n",
        "  temp=trainData[l,:,0:25]\n",
        "  trainDatat1[l,:,:]=temp\n",
        "  \n",
        "\n",
        "trainData=trainDatat1\n",
        "print(\"trainData shape: \",trainData.shape)"
      ]
    },
    {
      "cell_type": "code",
      "source": [
        "# Stratify the data\n",
        "r=0\n",
        "validation_size=0.2\n",
        "mvts_1540=trainData\n",
        "labels_1540=trainLabel\n",
        "X_train, X_test, y_train, y_test = train_test_split(mvts_1540, labels_1540, test_size=0.3, random_state=r, stratify=labels_1540)\n",
        "print(\"\\n\\n\\n *************** Validation Size is: \", validation_size,\"of training size\")\n",
        "print(\"after train validation split:\")\n",
        "X_train, X_val,y_train, y_val= train_test_split(X_train,y_train, test_size=validation_size,random_state=r,stratify=y_train)\n",
        "#check percentage of examples\n",
        "print(\"X_train shape: \", X_train.shape)\n",
        "print(\"y_train shape: \", y_train.shape)\n",
        "print(\"X_test shape: \", X_test.shape)\n",
        "print(\"y_test shape: \", y_test.shape)\n",
        "print(\"X_val shape: \",X_val.shape) \n",
        "print(\"y_val shape \",y_val.shape)\n",
        "unique_y_train, counts_y_train = np.unique(y_train, return_counts=True)\n",
        "y_train_stats = dict(zip(unique_y_train, counts_y_train))\n",
        "print(\"y_train_counts\")\n",
        "print(y_train_stats)\n",
        "#270/(269+269+270+270) = 0.25\n",
        "unique_y_val, counts_y_val = np.unique(y_val, return_counts=True)\n",
        "y_val_stats = dict(zip(unique_y_val, counts_y_val))\n",
        "print(\"y_validation_counts\")\n",
        "print(y_val_stats)\n",
        "unique_y_test, counts_y_test = np.unique(y_test, return_counts=True)\n",
        "y_test_stats = dict(zip(unique_y_test, counts_y_test))\n",
        "print(\"y_test_counts\")\n",
        "print(y_test_stats)#116/(116+116+115+115) = 0.25"
      ],
      "metadata": {
        "colab": {
          "base_uri": "https://localhost:8080/"
        },
        "id": "cAAOuWaP2OZa",
        "outputId": "fc669ccc-840a-485c-aa84-d863d43952c0"
      },
      "execution_count": null,
      "outputs": [
        {
          "output_type": "stream",
          "name": "stdout",
          "text": [
            "\n",
            "\n",
            "\n",
            " *************** Validation Size is:  0.2 of training size\n",
            "after train validation split:\n",
            "X_train shape:  (862, 60, 25)\n",
            "y_train shape:  (862,)\n",
            "X_test shape:  (462, 60, 25)\n",
            "y_test shape:  (462,)\n",
            "X_val shape:  (216, 60, 25)\n",
            "y_val shape  (216,)\n",
            "y_train_counts\n",
            "{0: 215, 1: 215, 2: 216, 3: 216}\n",
            "y_validation_counts\n",
            "{0: 54, 1: 54, 2: 54, 3: 54}\n",
            "y_test_counts\n",
            "{0: 116, 1: 116, 2: 115, 3: 115}\n"
          ]
        }
      ]
    },
    {
      "cell_type": "code",
      "source": [
        "#Dimensionality Reduction Step\n",
        "#Calculating the mean for each MVTS column (25 parameters which are based parameters)\n",
        "trainDatatmean=np.empty([862,25])\n",
        "n=len(X_train)\n",
        "for l in range(0, n):\n",
        "  temp=X_train[l,:,:]\n",
        "  #print(temp.shape)\n",
        "  #print(temp.shape[0])\n",
        "  #print(temp.shape[1])\n",
        "  x=temp.mean(axis=0)\n",
        "  #print(\"mean for mvts:\",l,\"is=\",x)\n",
        "  trainDatatmean[l]=x\n",
        "\n",
        "x_train=trainDatatmean\n",
        "print(\"trainDatatmean shape: \",trainDatatmean.shape)\n",
        "   \n"
      ],
      "metadata": {
        "colab": {
          "base_uri": "https://localhost:8080/"
        },
        "id": "SAyqKTLOr3_V",
        "outputId": "d49b8842-2cf5-478d-ea54-0ad7c7fda2a1"
      },
      "execution_count": null,
      "outputs": [
        {
          "output_type": "stream",
          "name": "stdout",
          "text": [
            "trainDatatmean shape:  (862, 25)\n"
          ]
        }
      ]
    },
    {
      "cell_type": "code",
      "source": [
        "print(trainDatatmean[0])"
      ],
      "metadata": {
        "colab": {
          "base_uri": "https://localhost:8080/"
        },
        "id": "jMkKWgdezYPH",
        "outputId": "7b6031b5-0719-493c-9b45-923f5e66ab7a"
      },
      "execution_count": null,
      "outputs": [
        {
          "output_type": "stream",
          "name": "stdout",
          "text": [
            "[ 0.10970546  0.10970546  0.25683395  0.10970546  0.10970546  0.10970546\n",
            "  0.12323007 -5.1863761   0.10970546  0.10970546  0.10970546  0.10970546\n",
            "  0.10970546  0.10970546  0.10970546  0.10970546  0.10970546 -0.57621396\n",
            "  0.10970546  0.10970546  2.31077327  0.10970546  0.10970546  0.10970546\n",
            "  0.10970546]\n"
          ]
        }
      ]
    },
    {
      "cell_type": "code",
      "source": [
        "c=np.mean(X_train[0,:,7])\n",
        "print(c)"
      ],
      "metadata": {
        "colab": {
          "base_uri": "https://localhost:8080/"
        },
        "id": "EQTJVBbSywxF",
        "outputId": "03742b9a-c532-4f62-a68d-26113fbfc50c"
      },
      "execution_count": null,
      "outputs": [
        {
          "output_type": "stream",
          "name": "stdout",
          "text": [
            "-5.186376103170483\n"
          ]
        }
      ]
    },
    {
      "cell_type": "code",
      "source": [
        "df2=pd.DataFrame(x_train)"
      ],
      "metadata": {
        "id": "sUVYuROiP9jp"
      },
      "execution_count": null,
      "outputs": []
    },
    {
      "cell_type": "code",
      "source": [
        "df2.to_csv(\"data.csv\")"
      ],
      "metadata": {
        "id": "jNF_Mhy0RFkE"
      },
      "execution_count": null,
      "outputs": []
    },
    {
      "cell_type": "code",
      "source": [
        "f=pd.DataFrame(y_train)"
      ],
      "metadata": {
        "id": "MYz1Bay_Rgw-"
      },
      "execution_count": null,
      "outputs": []
    },
    {
      "cell_type": "code",
      "source": [
        "f.to_csv(\"class.csv\")"
      ],
      "metadata": {
        "id": "ec_iV8bURm46"
      },
      "execution_count": null,
      "outputs": []
    },
    {
      "cell_type": "code",
      "source": [
        "print(y_train[0])"
      ],
      "metadata": {
        "colab": {
          "base_uri": "https://localhost:8080/"
        },
        "id": "fzzYtK7uSMbh",
        "outputId": "c358830e-c34e-4990-e635-e281e3cc95ad"
      },
      "execution_count": null,
      "outputs": [
        {
          "output_type": "stream",
          "name": "stdout",
          "text": [
            "1\n"
          ]
        }
      ]
    },
    {
      "cell_type": "code",
      "source": [
        "ff = pd.read_csv('/dataset0.csv')"
      ],
      "metadata": {
        "id": "bqLXXzJ3TO3j"
      },
      "execution_count": null,
      "outputs": []
    },
    {
      "cell_type": "code",
      "source": [
        "pip install numpy Cython"
      ],
      "metadata": {
        "colab": {
          "base_uri": "https://localhost:8080/"
        },
        "id": "v2zmtDDkCNT6",
        "outputId": "caf69ed9-a7be-4bdd-e6fe-8bf2a8e9dfe7"
      },
      "execution_count": null,
      "outputs": [
        {
          "output_type": "stream",
          "name": "stdout",
          "text": [
            "Looking in indexes: https://pypi.org/simple, https://us-python.pkg.dev/colab-wheels/public/simple/\n",
            "Requirement already satisfied: numpy in /usr/local/lib/python3.7/dist-packages (1.21.6)\n",
            "Requirement already satisfied: Cython in /usr/local/lib/python3.7/dist-packages (0.29.30)\n"
          ]
        }
      ]
    },
    {
      "cell_type": "code",
      "source": [
        "pip install -U pymrmr"
      ],
      "metadata": {
        "colab": {
          "base_uri": "https://localhost:8080/"
        },
        "id": "6HYJmFFVCQKx",
        "outputId": "8ef2bcab-a125-4b91-891f-b2fb97143f3a"
      },
      "execution_count": null,
      "outputs": [
        {
          "output_type": "stream",
          "name": "stdout",
          "text": [
            "Looking in indexes: https://pypi.org/simple, https://us-python.pkg.dev/colab-wheels/public/simple/\n",
            "Requirement already satisfied: pymrmr in /usr/local/lib/python3.7/dist-packages (0.1.11)\n",
            "Requirement already satisfied: numpy>=1.19.5 in /usr/local/lib/python3.7/dist-packages (from pymrmr) (1.21.6)\n"
          ]
        }
      ]
    },
    {
      "cell_type": "code",
      "source": [
        "pip install pymrmr"
      ],
      "metadata": {
        "colab": {
          "base_uri": "https://localhost:8080/"
        },
        "id": "u9C-HDSr-jVN",
        "outputId": "a7fbd362-ae26-4fad-f0ac-69398a84d4b0"
      },
      "execution_count": null,
      "outputs": [
        {
          "output_type": "stream",
          "name": "stdout",
          "text": [
            "Looking in indexes: https://pypi.org/simple, https://us-python.pkg.dev/colab-wheels/public/simple/\n",
            "Requirement already satisfied: pymrmr in /usr/local/lib/python3.7/dist-packages (0.1.11)\n",
            "Requirement already satisfied: numpy>=1.19.5 in /usr/local/lib/python3.7/dist-packages (from pymrmr) (1.21.6)\n"
          ]
        }
      ]
    },
    {
      "cell_type": "code",
      "source": [
        "#https://bhishanpdl.github.io/Resources/fs001.html\n",
        "#https://pypi.org/project/pymrmr/\n",
        "#https://bhishanpdl.github.io/Resources/fs001.html\n",
        "import pymrmr\n",
        "c=pymrmr.mRMR(ff, 'MIQ', 25)"
      ],
      "metadata": {
        "id": "XcGYiP8aNZHM"
      },
      "execution_count": null,
      "outputs": []
    },
    {
      "cell_type": "code",
      "source": [
        "print(c)"
      ],
      "metadata": {
        "colab": {
          "base_uri": "https://localhost:8080/"
        },
        "id": "AICKn-2pVTuH",
        "outputId": "f4461812-6ed9-46ab-a501-de66c2e7db71"
      },
      "execution_count": null,
      "outputs": [
        {
          "output_type": "stream",
          "name": "stdout",
          "text": [
            "['7', '17', '8', '20', '2', '18', '19', '15', '12', '21', '22', '23', '16', '0', '14', '5', '9', '3', '4', '13', '6', '1', '10', '11', '24']\n"
          ]
        }
      ]
    },
    {
      "cell_type": "code",
      "source": [
        "d=pymrmr.mRMR(ff, 'MID', 25)\n",
        "print(d)"
      ],
      "metadata": {
        "id": "aVm7KWjT69T1",
        "colab": {
          "base_uri": "https://localhost:8080/"
        },
        "outputId": "a436bc7b-385c-4629-cf23-7f5aa45226cb"
      },
      "execution_count": null,
      "outputs": [
        {
          "output_type": "stream",
          "name": "stdout",
          "text": [
            "['7', '18', '19', '17', '15', '8', '12', '20', '21', '2', '22', '23', '16', '0', '14', '5', '9', '3', '4', '13', '6', '1', '10', '11', '24']\n"
          ]
        }
      ]
    },
    {
      "cell_type": "code",
      "source": [
        "!pip install Pymrmre\n"
      ],
      "metadata": {
        "colab": {
          "base_uri": "https://localhost:8080/"
        },
        "id": "YmYANU5J_jL8",
        "outputId": "229e02ba-2832-49df-e201-d5290262e369"
      },
      "execution_count": null,
      "outputs": [
        {
          "output_type": "stream",
          "name": "stdout",
          "text": [
            "Looking in indexes: https://pypi.org/simple, https://us-python.pkg.dev/colab-wheels/public/simple/\n",
            "Requirement already satisfied: Pymrmre in /usr/local/lib/python3.7/dist-packages (1.0.7)\n",
            "Requirement already satisfied: numpy in /usr/local/lib/python3.7/dist-packages (from Pymrmre) (1.21.6)\n",
            "Requirement already satisfied: pandas in /usr/local/lib/python3.7/dist-packages (from Pymrmre) (1.3.5)\n",
            "Requirement already satisfied: scipy in /usr/local/lib/python3.7/dist-packages (from Pymrmre) (1.7.3)\n",
            "Requirement already satisfied: python-dateutil>=2.7.3 in /usr/local/lib/python3.7/dist-packages (from pandas->Pymrmre) (2.8.2)\n",
            "Requirement already satisfied: pytz>=2017.3 in /usr/local/lib/python3.7/dist-packages (from pandas->Pymrmre) (2022.1)\n",
            "Requirement already satisfied: six>=1.5 in /usr/local/lib/python3.7/dist-packages (from python-dateutil>=2.7.3->pandas->Pymrmre) (1.15.0)\n"
          ]
        }
      ]
    },
    {
      "cell_type": "code",
      "source": [
        "pip install mrmr_selection"
      ],
      "metadata": {
        "colab": {
          "base_uri": "https://localhost:8080/"
        },
        "id": "uar14xHjFFkh",
        "outputId": "78e041e0-13c8-4990-803b-08b03b4b3201"
      },
      "execution_count": null,
      "outputs": [
        {
          "output_type": "stream",
          "name": "stdout",
          "text": [
            "Looking in indexes: https://pypi.org/simple, https://us-python.pkg.dev/colab-wheels/public/simple/\n",
            "Requirement already satisfied: mrmr_selection in /usr/local/lib/python3.7/dist-packages (0.2.5)\n",
            "Requirement already satisfied: joblib in /usr/local/lib/python3.7/dist-packages (from mrmr_selection) (1.1.0)\n",
            "Requirement already satisfied: jinja2 in /usr/local/lib/python3.7/dist-packages (from mrmr_selection) (2.11.3)\n",
            "Requirement already satisfied: numpy>=1.18.1 in /usr/local/lib/python3.7/dist-packages (from mrmr_selection) (1.21.6)\n",
            "Requirement already satisfied: sklearn in /usr/local/lib/python3.7/dist-packages (from mrmr_selection) (0.0)\n",
            "Requirement already satisfied: category-encoders in /usr/local/lib/python3.7/dist-packages (from mrmr_selection) (2.5.0)\n",
            "Requirement already satisfied: scipy in /usr/local/lib/python3.7/dist-packages (from mrmr_selection) (1.7.3)\n",
            "Requirement already satisfied: tqdm in /usr/local/lib/python3.7/dist-packages (from mrmr_selection) (4.64.0)\n",
            "Requirement already satisfied: pandas>=1.0.3 in /usr/local/lib/python3.7/dist-packages (from mrmr_selection) (1.3.5)\n",
            "Requirement already satisfied: python-dateutil>=2.7.3 in /usr/local/lib/python3.7/dist-packages (from pandas>=1.0.3->mrmr_selection) (2.8.2)\n",
            "Requirement already satisfied: pytz>=2017.3 in /usr/local/lib/python3.7/dist-packages (from pandas>=1.0.3->mrmr_selection) (2022.1)\n",
            "Requirement already satisfied: six>=1.5 in /usr/local/lib/python3.7/dist-packages (from python-dateutil>=2.7.3->pandas>=1.0.3->mrmr_selection) (1.15.0)\n",
            "Requirement already satisfied: scikit-learn>=0.20.0 in /usr/local/lib/python3.7/dist-packages (from category-encoders->mrmr_selection) (1.0.2)\n",
            "Requirement already satisfied: patsy>=0.5.1 in /usr/local/lib/python3.7/dist-packages (from category-encoders->mrmr_selection) (0.5.2)\n",
            "Requirement already satisfied: statsmodels>=0.9.0 in /usr/local/lib/python3.7/dist-packages (from category-encoders->mrmr_selection) (0.10.2)\n",
            "Requirement already satisfied: threadpoolctl>=2.0.0 in /usr/local/lib/python3.7/dist-packages (from scikit-learn>=0.20.0->category-encoders->mrmr_selection) (3.1.0)\n",
            "Requirement already satisfied: MarkupSafe>=0.23 in /usr/local/lib/python3.7/dist-packages (from jinja2->mrmr_selection) (2.0.1)\n"
          ]
        }
      ]
    },
    {
      "cell_type": "code",
      "source": [
        "#https://github.com/smazzanti/mrmr\n",
        "import mrmr"
      ],
      "metadata": {
        "id": "Ru73arqHFKy2"
      },
      "execution_count": null,
      "outputs": []
    },
    {
      "cell_type": "code",
      "source": [
        "# create some pandas data\n",
        "X = pd.read_csv('/content/train_x.csv')\n",
        "y = pd.read_csv('/content/train_y.csv')\n",
        "\n",
        "# select top 10 features using mRMR\n",
        "from mrmr import mrmr_classif\n",
        "selected_features = mrmr_classif(X=X, y=y, K=25)"
      ],
      "metadata": {
        "colab": {
          "base_uri": "https://localhost:8080/"
        },
        "id": "ppJOf57FFP5v",
        "outputId": "d3ee9beb-bc8c-46a1-db88-f30da95d7e16"
      },
      "execution_count": null,
      "outputs": [
        {
          "output_type": "stream",
          "name": "stderr",
          "text": [
            "100%|██████████| 25/25 [00:00<00:00, 25.35it/s]\n"
          ]
        }
      ]
    },
    {
      "cell_type": "code",
      "source": [
        "print(selected_features)"
      ],
      "metadata": {
        "colab": {
          "base_uri": "https://localhost:8080/"
        },
        "id": "PC68YTXXFhq9",
        "outputId": "eab42f77-bef9-47f4-ec90-cadd1fde4861"
      },
      "execution_count": null,
      "outputs": [
        {
          "output_type": "stream",
          "name": "stdout",
          "text": [
            "['2', '6', '7', '17', '20', '8', '14', '13', '15', '12', '11', '10', '18', '22', '19', '21', '16', '0', '1', '4', '23', '24', '3', '5', '9']\n"
          ]
        }
      ]
    },
    {
      "cell_type": "code",
      "source": [
        "selected_features, relevance, redundancy = mrmr.pandas.mrmr_classif(\n",
        "    X=X,\n",
        "    y=y,\n",
        "        K=25,\n",
        "        relevance=\"f\",\n",
        "        redundancy=\"c\",\n",
        "        denominator=\"mean\",\n",
        "        cat_features=[],\n",
        "        cat_encoding=\"leave_one_out\",\n",
        "        only_same_domain=False,\n",
        "        return_scores=True,\n",
        "        n_jobs=1000,\n",
        "        show_progress=True \n",
        "        )"
      ],
      "metadata": {
        "colab": {
          "base_uri": "https://localhost:8080/"
        },
        "id": "nBBretXBGv6X",
        "outputId": "4b98d68c-9838-4524-8054-7ddeb8bc2804"
      },
      "execution_count": null,
      "outputs": [
        {
          "output_type": "stream",
          "name": "stderr",
          "text": [
            "100%|██████████| 25/25 [00:00<00:00, 35.59it/s]\n"
          ]
        }
      ]
    },
    {
      "cell_type": "code",
      "source": [
        "print(selected_features)"
      ],
      "metadata": {
        "colab": {
          "base_uri": "https://localhost:8080/"
        },
        "id": "1ODAtgrxIkbd",
        "outputId": "64c5e5f8-54e9-4484-c8aa-b92cde7b9989"
      },
      "execution_count": null,
      "outputs": [
        {
          "output_type": "stream",
          "name": "stdout",
          "text": [
            "['2', '6', '7', '17', '20', '8', '14', '13', '15', '12', '11', '10', '18', '22', '19', '21', '16', '0', '1', '4', '23', '24', '3', '5', '9']\n"
          ]
        }
      ]
    },
    {
      "cell_type": "code",
      "source": [
        "print(relevance)"
      ],
      "metadata": {
        "colab": {
          "base_uri": "https://localhost:8080/"
        },
        "id": "dltbr83cIxz6",
        "outputId": "3ba32938-efdc-40d3-bfac-96e3a92bb487"
      },
      "execution_count": null,
      "outputs": [
        {
          "output_type": "stream",
          "name": "stdout",
          "text": [
            "0      2.907889\n",
            "1      2.907889\n",
            "2     70.104277\n",
            "3      2.907889\n",
            "4      2.907889\n",
            "5      2.907889\n",
            "6      4.074913\n",
            "7     16.456829\n",
            "8      2.741302\n",
            "9      2.903492\n",
            "10     2.933121\n",
            "11     3.018580\n",
            "12     3.116923\n",
            "13     3.643111\n",
            "14     3.678663\n",
            "15     3.260245\n",
            "16     2.907946\n",
            "17     7.751604\n",
            "18     2.921104\n",
            "19     2.908306\n",
            "20     4.440229\n",
            "21     2.908265\n",
            "22     2.909618\n",
            "23     2.907889\n",
            "24     2.907889\n",
            "dtype: float64\n"
          ]
        }
      ]
    },
    {
      "cell_type": "code",
      "source": [
        "print(redundancy)"
      ],
      "metadata": {
        "colab": {
          "base_uri": "https://localhost:8080/"
        },
        "id": "xIJDto6TI2lB",
        "outputId": "934928fa-0adb-48bf-e12f-90fe51336c4a"
      },
      "execution_count": null,
      "outputs": [
        {
          "output_type": "stream",
          "name": "stdout",
          "text": [
            "           0         1         2         3         4         5         6  \\\n",
            "0   0.001000  0.001000  0.204206  0.001000  0.001000  0.001000  0.990369   \n",
            "1   1.000000  0.001000  0.204206  0.001000  0.001000  0.001000  0.990369   \n",
            "2   0.001000  0.001000  0.001000  0.001000  0.001000  0.001000  0.001000   \n",
            "3   1.000000  1.000000  0.204206  0.001000  1.000000  0.001000  0.990369   \n",
            "4   1.000000  1.000000  0.204206  0.001000  0.001000  0.001000  0.990369   \n",
            "5   1.000000  1.000000  0.204206  1.000000  1.000000  0.001000  0.990369   \n",
            "6   0.001000  0.001000  0.070960  0.001000  0.001000  0.001000  0.001000   \n",
            "7   0.001000  0.001000  0.797815  0.001000  0.001000  0.001000  0.326862   \n",
            "8   0.001000  0.001000  0.151885  0.001000  0.001000  0.001000  0.424941   \n",
            "9   0.999999  0.999999  0.204100  0.999999  0.999999  0.999999  0.990386   \n",
            "10  0.001000  0.001000  0.204807  0.001000  0.001000  0.001000  0.990228   \n",
            "11  0.001000  0.001000  0.206767  0.001000  0.001000  0.001000  0.989144   \n",
            "12  0.001000  0.001000  0.208869  0.001000  0.001000  0.001000  0.986618   \n",
            "13  0.001000  0.001000  0.215551  0.001000  0.001000  0.001000  0.927600   \n",
            "14  0.001000  0.001000  0.215297  0.001000  0.001000  0.001000  0.915765   \n",
            "15  0.001000  0.001000  0.211603  0.001000  0.001000  0.001000  0.979964   \n",
            "16  0.001000  0.001000  0.204207  0.001000  0.001000  0.001000  0.990369   \n",
            "17  0.001000  0.001000  0.157101  0.001000  0.001000  0.001000  0.563940   \n",
            "18  0.001000  0.001000  0.204522  0.001000  0.001000  0.001000  0.990305   \n",
            "19  0.001000  0.001000  0.204216  0.001000  0.001000  0.001000  0.990368   \n",
            "20  0.001000  0.001000  0.142526  0.001000  0.001000  0.001000  0.732162   \n",
            "21  0.001000  0.001000  0.204215  0.001000  0.001000  0.001000  0.990368   \n",
            "22  0.001000  0.001000  0.204248  0.001000  0.001000  0.001000  0.990362   \n",
            "23  1.000000  1.000000  0.204206  0.001000  1.000000  0.001000  0.990369   \n",
            "24  1.000000  1.000000  0.204206  0.001000  1.000000  0.001000  0.990369   \n",
            "\n",
            "           7         8      9  ...        15        16        17        18  \\\n",
            "0   0.426266  0.439674  0.001  ...  0.991067  1.000000  0.534024  0.999989   \n",
            "1   0.426266  0.439674  0.001  ...  0.991067  1.000000  0.534024  0.999989   \n",
            "2   0.001000  0.001000  0.001  ...  0.001000  0.001000  0.001000  0.001000   \n",
            "3   0.426266  0.439674  0.001  ...  0.991067  1.000000  0.534024  0.999989   \n",
            "4   0.426266  0.439674  0.001  ...  0.991067  1.000000  0.534024  0.999989   \n",
            "5   0.426266  0.439674  0.001  ...  0.991067  1.000000  0.534024  0.999989   \n",
            "6   0.001000  0.001000  0.001  ...  0.001000  0.001000  0.001000  0.001000   \n",
            "7   0.001000  0.001000  0.001  ...  0.001000  0.001000  0.001000  0.001000   \n",
            "8   0.063585  0.001000  0.001  ...  0.001000  0.001000  0.297092  0.001000   \n",
            "9   0.426476  0.438303  0.001  ...  0.990863  0.999999  0.533918  0.999981   \n",
            "10  0.425036  0.447564  0.001  ...  0.992203  0.001000  0.534614  0.001000   \n",
            "11  0.420516  0.474645  0.001  ...  0.995544  0.001000  0.536338  0.001000   \n",
            "12  0.414558  0.506648  0.001  ...  0.998336  0.001000  0.537751  0.001000   \n",
            "13  0.354156  0.718443  0.001  ...  0.001000  0.001000  0.525861  0.001000   \n",
            "14  0.345006  0.740779  0.001  ...  0.001000  0.001000  0.521791  0.001000   \n",
            "15  0.404071  0.555526  0.001  ...  0.001000  0.001000  0.538504  0.001000   \n",
            "16  0.426263  0.439691  0.001  ...  0.991070  0.001000  0.534026  0.999990   \n",
            "17  0.015728  0.001000  0.001  ...  0.001000  0.001000  0.001000  0.001000   \n",
            "18  0.425627  0.443801  0.001  ...  0.991670  0.001000  0.534338  0.001000   \n",
            "19  0.426246  0.439804  0.001  ...  0.991087  0.001000  0.534034  0.999990   \n",
            "20  0.001000  0.001000  0.001  ...  0.001000  0.001000  0.028675  0.001000   \n",
            "21  0.426248  0.439791  0.001  ...  0.991085  0.001000  0.534033  0.999990   \n",
            "22  0.426183  0.440213  0.001  ...  0.991147  0.001000  0.534066  0.999992   \n",
            "23  0.426266  0.439674  0.001  ...  0.991067  1.000000  0.534024  0.999989   \n",
            "24  0.426266  0.439674  0.001  ...  0.991067  1.000000  0.534024  0.999989   \n",
            "\n",
            "          19        20        21        22        23        24  \n",
            "0   1.000000  0.699620  1.000000  1.000000  0.001000  0.001000  \n",
            "1   1.000000  0.699620  1.000000  1.000000  0.001000  0.001000  \n",
            "2   0.001000  0.001000  0.001000  0.001000  0.001000  0.001000  \n",
            "3   1.000000  0.699620  1.000000  1.000000  1.000000  1.000000  \n",
            "4   1.000000  0.699620  1.000000  1.000000  0.001000  0.001000  \n",
            "5   1.000000  0.699620  1.000000  1.000000  1.000000  1.000000  \n",
            "6   0.001000  0.001000  0.001000  0.001000  0.001000  0.001000  \n",
            "7   0.001000  0.001000  0.001000  0.001000  0.001000  0.001000  \n",
            "8   0.001000  0.393244  0.001000  0.001000  0.001000  0.001000  \n",
            "9   0.999999  0.699473  0.999999  0.999998  0.999999  0.999999  \n",
            "10  0.001000  0.700432  0.001000  0.001000  0.001000  0.001000  \n",
            "11  0.001000  0.702827  0.001000  0.001000  0.001000  0.001000  \n",
            "12  0.001000  0.704842  0.001000  0.001000  0.001000  0.001000  \n",
            "13  0.001000  0.690447  0.001000  0.001000  0.001000  0.001000  \n",
            "14  0.001000  0.685251  0.001000  0.001000  0.001000  0.001000  \n",
            "15  0.001000  0.706086  0.001000  0.001000  0.001000  0.001000  \n",
            "16  1.000000  0.699622  1.000000  1.000000  0.001000  0.001000  \n",
            "17  0.001000  0.001000  0.001000  0.001000  0.001000  0.001000  \n",
            "18  0.001000  0.700051  0.001000  0.001000  0.001000  0.001000  \n",
            "19  0.001000  0.699634  0.001000  1.000000  0.001000  0.001000  \n",
            "20  0.001000  0.001000  0.001000  0.001000  0.001000  0.001000  \n",
            "21  1.000000  0.699632  0.001000  1.000000  0.001000  0.001000  \n",
            "22  0.001000  0.699677  0.001000  0.001000  0.001000  0.001000  \n",
            "23  1.000000  0.699620  1.000000  1.000000  0.001000  0.001000  \n",
            "24  1.000000  0.699620  1.000000  1.000000  1.000000  0.001000  \n",
            "\n",
            "[25 rows x 25 columns]\n"
          ]
        }
      ]
    },
    {
      "cell_type": "code",
      "source": [
        "import seaborn as sns\n",
        "X= np.array([1,2,3,4,5,6,7,8,9,10,11,12,13,14,15,16,17,18,19,20,21,22,23,24,25])\n",
        "plt.subplots(figsize=(12,5)) # set the size that you'd like (width, height)\n",
        "clrs = ['blue' ]\n",
        "sns.barplot(X, relevance,label=X,x=\"Feature number\", y=\"MRMR score\",palette=clrs)"
      ],
      "metadata": {
        "colab": {
          "base_uri": "https://localhost:8080/",
          "height": 337
        },
        "id": "lE-ZtPMRJWYg",
        "outputId": "897e3813-b168-4111-a593-24de06fb5431"
      },
      "execution_count": null,
      "outputs": [
        {
          "output_type": "execute_result",
          "data": {
            "text/plain": [
              "<matplotlib.axes._subplots.AxesSubplot at 0x7f21df969410>"
            ]
          },
          "metadata": {},
          "execution_count": 91
        },
        {
          "output_type": "display_data",
          "data": {
            "text/plain": [
              "<Figure size 864x360 with 1 Axes>"
            ],
            "image/png": "[encoded data removed]"
          },
          "metadata": {
            "needs_background": "light"
          }
        }
      ]
    },
    {
      "cell_type": "code",
      "source": [
        "plt.figure(1)\n",
        "plt.clf()\n",
        "plt.bar(X-1 , relevance, width=0.4)\n",
        "plt.title(\"Feature MRMR score\")\n",
        "plt.xlabel(\"Feature number\")\n",
        "plt.ylabel(r\"MRMRscore \")\n",
        "plt.show()"
      ],
      "metadata": {
        "colab": {
          "base_uri": "https://localhost:8080/",
          "height": 295
        },
        "id": "nJBiUMvjJrOi",
        "outputId": "3ff77b01-7d81-4713-89d6-e1a7806ebf71"
      },
      "execution_count": null,
      "outputs": [
        {
          "output_type": "display_data",
          "data": {
            "text/plain": [
              "<Figure size 432x288 with 1 Axes>"
            ],
            "image/png": "[encoded data removed]"
          },
          "metadata": {
            "needs_background": "light"
          }
        }
      ]
    },
    {
      "cell_type": "code",
      "source": [
        "from tabulate import tabulate\n",
        "df=pd.DataFrame({'Feature Number': X, 'MRMR Score(relevance)': relevance})\n",
        "print(tabulate(df,headers=\"keys\", tablefmt='fancy_grid'))"
      ],
      "metadata": {
        "colab": {
          "base_uri": "https://localhost:8080/"
        },
        "id": "Zgth2L08Wzik",
        "outputId": "c4a248aa-fb07-4073-cbd1-fb61f459c6ba"
      },
      "execution_count": null,
      "outputs": [
        {
          "output_type": "stream",
          "name": "stdout",
          "text": [
            "╒════╤══════════════════╤═════════════════════════╕\n",
            "│    │   Feature Number │   MRMR Score(relevance) │\n",
            "╞════╪══════════════════╪═════════════════════════╡\n",
            "│  0 │                1 │                 2.90789 │\n",
            "├────┼──────────────────┼─────────────────────────┤\n",
            "│  1 │                2 │                 2.90789 │\n",
            "├────┼──────────────────┼─────────────────────────┤\n",
            "│  2 │                3 │                70.1043  │\n",
            "├────┼──────────────────┼─────────────────────────┤\n",
            "│  3 │                4 │                 2.90789 │\n",
            "├────┼──────────────────┼─────────────────────────┤\n",
            "│  4 │                5 │                 2.90789 │\n",
            "├────┼──────────────────┼─────────────────────────┤\n",
            "│  5 │                6 │                 2.90789 │\n",
            "├────┼──────────────────┼─────────────────────────┤\n",
            "│  6 │                7 │                 4.07491 │\n",
            "├────┼──────────────────┼─────────────────────────┤\n",
            "│  7 │                8 │                16.4568  │\n",
            "├────┼──────────────────┼─────────────────────────┤\n",
            "│  8 │                9 │                 2.7413  │\n",
            "├────┼──────────────────┼─────────────────────────┤\n",
            "│  9 │               10 │                 2.90349 │\n",
            "├────┼──────────────────┼─────────────────────────┤\n",
            "│ 10 │               11 │                 2.93312 │\n",
            "├────┼──────────────────┼─────────────────────────┤\n",
            "│ 11 │               12 │                 3.01858 │\n",
            "├────┼──────────────────┼─────────────────────────┤\n",
            "│ 12 │               13 │                 3.11692 │\n",
            "├────┼──────────────────┼─────────────────────────┤\n",
            "│ 13 │               14 │                 3.64311 │\n",
            "├────┼──────────────────┼─────────────────────────┤\n",
            "│ 14 │               15 │                 3.67866 │\n",
            "├────┼──────────────────┼─────────────────────────┤\n",
            "│ 15 │               16 │                 3.26024 │\n",
            "├────┼──────────────────┼─────────────────────────┤\n",
            "│ 16 │               17 │                 2.90795 │\n",
            "├────┼──────────────────┼─────────────────────────┤\n",
            "│ 17 │               18 │                 7.7516  │\n",
            "├────┼──────────────────┼─────────────────────────┤\n",
            "│ 18 │               19 │                 2.9211  │\n",
            "├────┼──────────────────┼─────────────────────────┤\n",
            "│ 19 │               20 │                 2.90831 │\n",
            "├────┼──────────────────┼─────────────────────────┤\n",
            "│ 20 │               21 │                 4.44023 │\n",
            "├────┼──────────────────┼─────────────────────────┤\n",
            "│ 21 │               22 │                 2.90826 │\n",
            "├────┼──────────────────┼─────────────────────────┤\n",
            "│ 22 │               23 │                 2.90962 │\n",
            "├────┼──────────────────┼─────────────────────────┤\n",
            "│ 23 │               24 │                 2.90789 │\n",
            "├────┼──────────────────┼─────────────────────────┤\n",
            "│ 24 │               25 │                 2.90789 │\n",
            "╘════╧══════════════════╧═════════════════════════╛\n"
          ]
        }
      ]
    },
    {
      "cell_type": "code",
      "source": [
        "df.to_excel('MRMR_Scores.xlsx')"
      ],
      "metadata": {
        "id": "XieIoxhxXh8M"
      },
      "execution_count": null,
      "outputs": []
    }
  ],
  "metadata": {
    "colab": {
      "provenance": []
    },
    "gpuClass": "standard",
    "kernelspec": {
      "display_name": "Python 3",
      "name": "python3"
    },
    "language_info": {
      "name": "python"
    },
    "accelerator": "GPU"
  },
  "nbformat": 4,
  "nbformat_minor": 0
}